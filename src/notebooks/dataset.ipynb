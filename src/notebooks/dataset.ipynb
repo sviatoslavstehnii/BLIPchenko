{
 "cells": [
  {
   "cell_type": "code",
   "execution_count": null,
   "id": "18842010",
   "metadata": {},
   "outputs": [
    {
     "name": "stderr",
     "output_type": "stream",
     "text": [
      "/tmp/ipykernel_23319/3598991457.py:10: DeprecationWarning: load_dataset is deprecated and will be removed in a future version.\n",
      "  df = kagglehub.load_dataset(\n"
     ]
    },
    {
     "name": "stdout",
     "output_type": "stream",
     "text": [
      "First 5 records:    Unnamed: 0                                       poetry_title  \\\n",
      "0           0     taras-shevchenko-mertvym-zhyvym-nenarozhdennym   \n",
      "1           1         taras-shevchenko-za-sonczem-hmaronka-plyve   \n",
      "2           2            taras-shevchenko-meni-odnakovo-chy-budu   \n",
      "3           3               taras-shevchenko-dumy-moyi-dumy-moyi   \n",
      "4           4  taras-shevchenko-prychynna-reve-ta-stogne-dnip...   \n",
      "\n",
      "                                         poetry_text  \n",
      "0  І смеркає, і світає,\\nДень божий минає,\\nІ зно...  \n",
      "1  За сонцем хмаронька пливе,\\nЧервоні поли розст...  \n",
      "2  Мені однаково, чи буду\\nЯ  жить в Україні, чи ...  \n",
      "3  Думи мої, думи мої,\\nЛихо мені з вами!\\nНащо с...  \n",
      "4  Реве та стогне Дніпр широкий,\\nСердитий вітер ...  \n"
     ]
    }
   ],
   "source": [
    "import kagglehub\n",
    "from kagglehub import KaggleDatasetAdapter\n",
    "\n",
    "file_path = \"taras_shevchenko_poetry.csv\"\n",
    "\n",
    "# Load the latest version\n",
    "df = kagglehub.load_dataset(\n",
    "  KaggleDatasetAdapter.PANDAS,\n",
    "  \"oleksiykh/taras-shevchenko-poetry\",\n",
    "  file_path,\n",
    ")\n",
    "df.to_csv(file_path)\n",
    "print(\"First 5 records:\", df.head())"
   ]
  },
  {
   "cell_type": "code",
   "execution_count": 4,
   "id": "6a090156",
   "metadata": {},
   "outputs": [],
   "source": [
    "import pandas as pd\n",
    "ds = pd.read_csv('taras_shevchenko_poetry.csv').dropna()"
   ]
  },
  {
   "cell_type": "code",
   "execution_count": null,
   "id": "4a78bb33",
   "metadata": {},
   "outputs": [
    {
     "name": "stdout",
     "output_type": "stream",
     "text": [
      "Error writing record 24\n"
     ]
    }
   ],
   "source": [
    "first_lines = ds['poetry_text'].str.split('\\n').str[0]\n",
    "# {\"prompt\": \"first line\", \"completion\": \"poem\"}\n",
    "with open('shevchenko_poetry.jsonl', 'w') as f:\n",
    "    for i in range(len(ds)):\n",
    "        try:\n",
    "            f.write(f'{{\"prompt\": \"{first_lines[i]}\", \"completion\": \"{ds[\"poetry_text\"][i]}\"}}\\n')\n",
    "        except:\n",
    "            print(f\"Error writing record {i}\")\n",
    "            continue"
   ]
  }
 ],
 "metadata": {
  "kernelspec": {
   "display_name": "Python 3",
   "language": "python",
   "name": "python3"
  },
  "language_info": {
   "codemirror_mode": {
    "name": "ipython",
    "version": 3
   },
   "file_extension": ".py",
   "mimetype": "text/x-python",
   "name": "python",
   "nbconvert_exporter": "python",
   "pygments_lexer": "ipython3",
   "version": "3.12.3"
  }
 },
 "nbformat": 4,
 "nbformat_minor": 5
}
