{
 "cells": [
  {
   "cell_type": "code",
   "execution_count": 2,
   "id": "cdf88560",
   "metadata": {},
   "outputs": [],
   "source": [
    "from PIL import Image\n",
    "import os\n",
    "import sys"
   ]
  },
  {
   "cell_type": "code",
   "execution_count": 9,
   "id": "bd7b15b5",
   "metadata": {},
   "outputs": [],
   "source": [
    "image = Image.open('p.png')\n",
    "# encode into base64 and post to the localhost:8000/generate\n",
    "import base64\n",
    "import requests\n",
    "import json\n",
    "import io\n",
    "\n",
    "def encode_image(image):\n",
    "    buffered = io.BytesIO()\n",
    "    image.save(buffered, format=\"PNG\")\n",
    "    img_str = base64.b64encode(buffered.getvalue()).decode('utf-8')\n",
    "    return img_str\n",
    "\n",
    "def post_image(image_str):\n",
    "    url = 'http://desktop:8000/generate'\n",
    "    headers = {'Content-Type': 'application/json'}\n",
    "    data = json.dumps({'image_base64': image_str,\n",
    "                       'adapter_name':'out_small',\n",
    "                       'use_gemini':1})\n",
    "    \n",
    "    response = requests.post(url, headers=headers, data=data)\n",
    "    \n",
    "    if response.status_code == 200:\n",
    "        print(\"Image posted successfully.\")\n",
    "        print(\"Response:\", response.json()['poem'])\n",
    "    else:\n",
    "        print(\"Failed to post image. Status code:\", response.status_code)\n",
    "        print(\"Response:\", response.text)"
   ]
  },
  {
   "cell_type": "code",
   "execution_count": null,
   "id": "ff46f120",
   "metadata": {},
   "outputs": [],
   "source": [
    "image_path = 'p.png'\n",
    "image = Image.open(image_path)\n",
    "\n",
    "image_str = encode_image(image)\n",
    "post_image(image_str)"
   ]
  }
 ],
 "metadata": {
  "kernelspec": {
   "display_name": ".venv",
   "language": "python",
   "name": "python3"
  },
  "language_info": {
   "codemirror_mode": {
    "name": "ipython",
    "version": 3
   },
   "file_extension": ".py",
   "mimetype": "text/x-python",
   "name": "python",
   "nbconvert_exporter": "python",
   "pygments_lexer": "ipython3",
   "version": "3.12.3"
  }
 },
 "nbformat": 4,
 "nbformat_minor": 5
}
